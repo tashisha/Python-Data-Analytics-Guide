{
 "cells": [
  {
   "cell_type": "code",
   "execution_count": 6,
   "metadata": {},
   "outputs": [],
   "source": [
    "#First we always import all our libraries \n",
    "import numpy as np\n",
    "import pandas as pd\n",
    "import scipy as stats\n",
    "import matplotlib as mpl\n",
    "import matplotlib.pyplot as plt\n",
    "import math\n",
    "%matplotlib inline\n",
    "\n",
    "##This line is what data munging is. \n",
    "dataHowell = pd.read_excel('Howell_2.4.xls')\n",
    "#print(dataHowell)"
   ]
  },
  {
   "cell_type": "code",
   "execution_count": 13,
   "metadata": {
    "scrolled": true
   },
   "outputs": [
    {
     "name": "stdout",
     "output_type": "stream",
     "text": [
      "Levene Normality test 0.8706741479402627\n",
      "Independent t-test 3.1649249519095217e-18\n",
      "Dependent t-test 1.6932758799562023e-16\n",
      "One Sample t-test 1.24463015539893e-14\n"
     ]
    }
   ],
   "source": [
    "##Let's run an independent t-test using the dataHowell data. \n",
    "\n",
    "#We need to import from scipy to run the t-test function.\n",
    "from scipy import stats\n",
    "\n",
    "#store the dataHowell data in an array, t-tests don't like parsed data for some reason. \n",
    "ChildrenArray = np.array(dataHowell['children'])\n",
    "AdultsArray = np.array(dataHowell['adults'])\n",
    "\n",
    "#Let's do Levene's normality test.\n",
    "#data is normal if it is bigger than 0.05 after running the Levene test.\n",
    "#the way each of these arrays is set up they will only display the p-value.\n",
    "#if you want to view the statistic get rid of the [1] in the array.\n",
    "Normality = stats.levene(ChildrenArray, AdultsArray)[1]\n",
    "print(\"Levene Normality test\", Normality)\n",
    "\n",
    "##perform an independent t-test as these are two unrealted groups.\n",
    "##stats.ttest_ind is the function for performing the independent t-test. \n",
    "\n",
    "#so lets run the independent t-test\n",
    "IndependentTTest = stats.ttest_ind(ChildrenArray, AdultsArray, equal_var=False)[1]\n",
    "#this will output the p-value\n",
    "print(\"Independent t-test\", IndependentTTest)\n",
    "\n",
    "#let's pretend that we need to run a dependent t-test on dataHowell, even though we know it should be independent. \n",
    "#so lets run a dependent t-test\n",
    "DependentTTest = stats.ttest_rel(ChildrenArray, AdultsArray)[1]\n",
    "print(\"Dependent t-test\", DependentTTest)\n",
    "\n",
    "#Now lets pretend that the data for children is non-parametric so we have to run a one sample t-test.\n",
    "#lets use 12 as the population mean\n",
    "OneSampleTTest = stats.ttest_1samp(ChildrenArray, 12)[1]\n",
    "print(\"One Sample t-test\", OneSampleTTest)"
   ]
  },
  {
   "cell_type": "code",
   "execution_count": 10,
   "metadata": {},
   "outputs": [
    {
     "name": "stdout",
     "output_type": "stream",
     "text": [
      "Median of Children [18.0]\n",
      "Median of Adults [10.0]\n",
      "Mean of Children [18.9]\n",
      "Mean of Adults [10.2]\n",
      "Mode of Children [10]\n",
      "Mode of Adults [8]\n"
     ]
    }
   ],
   "source": [
    "##Let's fine median. mean and mode\n",
    "\n",
    "#Medians\n",
    "ChildrenMedian = ([np.median(dataHowell['children'])]) \n",
    "AdultsMedian = ([np.median(dataHowell['adults'])])\n",
    "#How we print the medians\n",
    "print(\"Median of Children\", ChildrenMedian)\n",
    "print(\"Median of Adults\", AdultsMedian)\n",
    "\n",
    "#Means\n",
    "ChildrenMean = ([np.mean(dataHowell['children'])])\n",
    "AdultsMean = ([np.mean(dataHowell['adults'])])\n",
    "#How we print the medians\n",
    "print(\"Mean of Children\", ChildrenMean )\n",
    "print(\"Mean of Adults\", AdultsMean)\n",
    "\n",
    "#Modes\n",
    "AdultsMode = stats.mode(dataHowell['adults'])[1]\n",
    "ChildrenMode = stats.mode(dataHowell['children'])[1]\n",
    "#How we print the modes\n",
    "print(\"Mode of Children\", ChildrenMode)\n",
    "print(\"Mode of Adults\", AdultsMode)"
   ]
  },
  {
   "cell_type": "code",
   "execution_count": null,
   "metadata": {},
   "outputs": [],
   "source": [
    "#Let's plot some graphs using the dataHowell data. \n",
    "\n",
    "#Here we're making a bar graph\n",
    "print(\"dataHowell bar graph\")\n",
    "\n",
    "#This is the mean of both vectors\n",
    "mean=(dataHowell.mean())\n",
    "#Thisis the errorbar of both vectors\n",
    "std=(dataHowell.std())\n",
    "#Let's define the length of dataHowell. We're defining it as n because n is what we call sample size in stats. \n",
    "n=len(dataHowell.std()) \n",
    "\n",
    "#let's draw boxes with their mean and variability error\n",
    "plt.bar(np.arange(n), mean , yerr=std)\n",
    "\n",
    "#let's label the x axis\n",
    "plt.xticks(np.arange(n), ('children', 'adults'))\n",
    "\n",
    "#lets label the y axis\n",
    "plt.ylabel('phrases')\n",
    "\n",
    "#this hides the plotting info we don't want to show\n",
    "plt.show()"
   ]
  },
  {
   "cell_type": "code",
   "execution_count": null,
   "metadata": {},
   "outputs": [],
   "source": [
    "#Now let's do box plots for dataHowell\n",
    "print(\"dataHowell box plots\")\n",
    "\n",
    "#here we are drawing boxes children and adults\n",
    "plt.boxplot([dataHowell['children'],dataHowell['adults']]) \n",
    "\n",
    "#let's label y axe\n",
    "plt.ylabel('phrases')\n",
    "\n",
    "#let's label each box x axe\n",
    "plt.xticks([1 ,2],[\"children\",\"adults\"])\n",
    "\n",
    "#this hides the plotting info we don't want to show\n",
    "plt.show()"
   ]
  },
  {
   "cell_type": "code",
   "execution_count": null,
   "metadata": {},
   "outputs": [],
   "source": [
    "#Now let's do a scatter plot for dataHowell\n",
    "print(\"dataHowell scatter plot\")\n",
    "\n",
    "#This is just for asigning random colors\n",
    "N = 50\n",
    "colors = np.random.rand(N)\n",
    "\n",
    "#here we are drawing scatter plots children and adults\n",
    "plt.scatter((dataHowell['children']),(dataHowell['adults']), c=colors, alpha=0.5)\n",
    "\n",
    "#label our axises\n",
    "plt.xlabel(\"children\")\n",
    "plt.ylabel(\"adults\")\n",
    "\n",
    "#this hides the plotting info we don't want to show\n",
    "plt.show()"
   ]
  },
  {
   "cell_type": "code",
   "execution_count": null,
   "metadata": {},
   "outputs": [],
   "source": [
    "#Now lets do a histrogram with dataHowell\n",
    "print(\"dataHowell histrogram\")\n",
    "\n",
    "#here's how we plot a histogram with children and adults together\n",
    "plt.hist([dataHowell['adults'],dataHowell['children']],42,range=[0,42])\n",
    "\n",
    "#now we label the axis\n",
    "plt.xlabel('phrases')\n",
    "plt.ylabel('amount')\n",
    "\n",
    "#this hides the plotting info we don't want to show\n",
    "plt.show()"
   ]
  },
  {
   "cell_type": "code",
   "execution_count": null,
   "metadata": {},
   "outputs": [],
   "source": [
    "#Now let's use the dataHowell data to calculate the 95% Confidence Interval. \n",
    "\n",
    "#Here we will define the length as nChildren since this is our sample size for children. \n",
    "nChildren = len(dataHowell['children'])\n",
    "#Here we will define the length as nAdults since this is our sample size for adults. \n",
    "nAdults =  len(dataHowell['adults'])\n",
    "\n",
    "#This is the mean of the sample children\n",
    "mean_sampleC = np.mean(dataHowell['children'])\n",
    "#This is the mean of the sample adults\n",
    "mean_sampleA = np.mean(dataHowell['adults'])\n",
    "\n",
    "#Here we are getting the standard of error \"sem\" for sample children\n",
    "##by divding the standard devation and degrees of freedom \"ddof\" by the square root of the sample size \n",
    "##note: change degrees of freedom to the actual number in children\n",
    "sem = np.std(dataHowell['children'],ddof=1)/math.sqrt(nChildren)\n",
    "\n",
    "#here we are defining the lower range for the children sample.\n",
    "#I think these ranges are fixed if we are using 95% CI, regardless of our data\n",
    "lower_range=stats.t(nChildren).ppf(0.025)*sem\n",
    "#here we are defining the upper range for the children sample\n",
    "upper_range=stats.t(nChildren).ppf(0.975)*sem\n",
    "\n",
    "#Now here is where we are actually calucating the confidence interval for the children sample\n",
    "confidence_interval_sampleC = [mean_sampleC + lower_range, mean_sampleC + upper_range]\n",
    "\n",
    "#Here we are getting the standard of error \"sem\" for sample adults\n",
    "sem = np.std(dataHowell['adults'],ddof=1)/math.sqrt(nAdults)\n",
    "\n",
    "#here we are defining the lower range for the adult sample.\n",
    "lower_range=stats.t(nAdults).ppf(0.025)*sem\n",
    "#here we are defining the upper range for the adult sample.\n",
    "upper_range=stats.t(nAdults).ppf(0.975)*sem\n",
    "\n",
    "#And here we are calucating the confidence interval for the adult sample\n",
    "confidence_interval_sampleA = [mean_sampleA + lower_range, mean_sampleA + upper_range]\n",
    "\n",
    "#Here we are printing the means\n",
    "print(mean_sampleC)\n",
    "print(mean_sampleA)\n",
    "\n",
    "#And here we are printing the confidence intervals \n",
    "print(confidence_interval_sampleC)\n",
    "print(confidence_interval_sampleA)\n",
    "\n",
    "#And finally here we are running the stats pearson to ge the degrees of signifigance\n",
    "degree_of_sig = stats.pearsonr((dataHowell['children']),(dataHowell['adults']))[1]\n",
    "print(degree_of_sig)\n"
   ]
  },
  {
   "cell_type": "code",
   "execution_count": 24,
   "metadata": {},
   "outputs": [
    {
     "name": "stdout",
     "output_type": "stream",
     "text": [
      "Wilcoxon Test Results 7.008375735542048e-10\n",
      " Man Whitney Test 3.853821076267207e-16\n"
     ]
    }
   ],
   "source": [
    "#Now lets run the Wilcoxon\n",
    "\n",
    "#We need to import from scipy to run the wilcoxon.\n",
    "from scipy.stats import wilcoxon\n",
    "\n",
    "#here are the arrays we will be drawing from for the wilcoxon and the man whitney.\n",
    "#we are going to pretend that this data is non-parametric for the sake of this exercise.\n",
    "#the wilcoxon is used for the non-parametric equivolent of a one sample-test or a dependent t-test.\n",
    "ChildrenArray = np.array(dataHowell['children'])\n",
    "AdultsArray = np.array(dataHowell['adults'])\n",
    "\n",
    "#now run the wilcoxon here.\n",
    "Result = wilcoxon(ChildrenArray)[1]\n",
    "print (\"Wilcoxon Test Results\", Result)\n",
    "\n",
    "#While we're at it why don't we run the Man Whitney, just for fun\n",
    "#the man whitney is the non-parametric equivolent of the independent t-test for non-parametric data. \n",
    "Result = stats.mannwhitneyu(ChildrenArray, AdultsArray)[1]\n",
    "print (\" Man Whitney Test\", Result)"
   ]
  },
  {
   "cell_type": "code",
   "execution_count": 31,
   "metadata": {
    "scrolled": true
   },
   "outputs": [
    {
     "name": "stdout",
     "output_type": "stream",
     "text": [
      "Spearmans correlation coefficient: 0.714\n",
      "Samples are uncorrelated (fail to reject H0) p=0.071\n"
     ]
    }
   ],
   "source": [
    "##Here we're going to run the Spearman corrolation using data that I made up. \n",
    "#We will assume that the data is non-parametric for this example because we have a small sample size. \n",
    "#We need continues data to run the Spearman test, so we will use weight as it corrolates to height. \n",
    "\n",
    "#Here we are importing numpy random as we need to use random since we don't have real data\n",
    "from numpy.random import rand\n",
    "#Here we are importing spearman from the scipy library\n",
    "from scipy.stats import spearmanr\n",
    "\n",
    "#We are running the spearman test to see if there is a corrolation between height and weight. \n",
    "##Height is listed in meters, weight in kilos.\n",
    "\n",
    "#here we define height\n",
    "Height = np.array([1.65, 2.0, 1.87, 1.44, 1.03, 0.94, 1.36])\n",
    "#here we define weight\n",
    "Weight= np.array([65, 80 , 58, 91, 57, 46, 52])\n",
    "\n",
    "#calculate spearman's correlation\n",
    "coef, p = spearmanr(Height, Weight)\n",
    "print('Spearmans correlation coefficient: %.3f' % coef)\n",
    "\n",
    "#interpret the significance\n",
    "alpha = 0.05\n",
    "\n",
    "if (p > alpha) or (p  == alpha):\n",
    "\tprint('Samples are uncorrelated (fail to reject H0) p=%.3f' % p)\n",
    "else:\n",
    "\tprint('Samples are correlated (reject H0) p=%.3f' % p)"
   ]
  },
  {
   "cell_type": "code",
   "execution_count": null,
   "metadata": {},
   "outputs": [],
   "source": []
  },
  {
   "cell_type": "code",
   "execution_count": null,
   "metadata": {},
   "outputs": [],
   "source": []
  },
  {
   "cell_type": "code",
   "execution_count": null,
   "metadata": {},
   "outputs": [],
   "source": []
  }
 ],
 "metadata": {
  "kernelspec": {
   "display_name": "Python 3",
   "language": "python",
   "name": "python3"
  },
  "language_info": {
   "codemirror_mode": {
    "name": "ipython",
    "version": 3
   },
   "file_extension": ".py",
   "mimetype": "text/x-python",
   "name": "python",
   "nbconvert_exporter": "python",
   "pygments_lexer": "ipython3",
   "version": "3.7.0"
  }
 },
 "nbformat": 4,
 "nbformat_minor": 2
}
